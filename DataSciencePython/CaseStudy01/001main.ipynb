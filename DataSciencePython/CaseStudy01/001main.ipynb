{
 "cells": [
  {
   "cell_type": "code",
   "execution_count": 1,
   "id": "6922d723",
   "metadata": {},
   "outputs": [],
   "source": [
    "import numpy as np\n",
    "import pandas as pd \n",
    "from datetime import date\n",
    "import datetime as dt"
   ]
  },
  {
   "cell_type": "code",
   "execution_count": 2,
   "id": "a56d939b",
   "metadata": {},
   "outputs": [],
   "source": [
    "dfc1 = pd.read_excel(\"customer_data.xlsx\",sheet_name = \"Data 1\")\n",
    "dfc2 = pd.read_excel(\"customer_data.xlsx\",sheet_name = \"Data 2\")\n",
    "dfe = pd.read_csv(\"edu_data.csv\")\n",
    "dfp = pd.read_csv(\"project_data.csv\")"
   ]
  },
  {
   "cell_type": "code",
   "execution_count": 3,
   "id": "2dca8124",
   "metadata": {},
   "outputs": [
    {
     "data": {
      "text/html": [
       "<div>\n",
       "<style scoped>\n",
       "    .dataframe tbody tr th:only-of-type {\n",
       "        vertical-align: middle;\n",
       "    }\n",
       "\n",
       "    .dataframe tbody tr th {\n",
       "        vertical-align: top;\n",
       "    }\n",
       "\n",
       "    .dataframe thead th {\n",
       "        text-align: right;\n",
       "    }\n",
       "</style>\n",
       "<table border=\"1\" class=\"dataframe\">\n",
       "  <thead>\n",
       "    <tr style=\"text-align: right;\">\n",
       "      <th></th>\n",
       "      <th>cust_id</th>\n",
       "      <th>year_of_birth</th>\n",
       "      <th>educational_status_code</th>\n",
       "      <th>marital_status</th>\n",
       "      <th>annual_income</th>\n",
       "      <th>full_name</th>\n",
       "    </tr>\n",
       "  </thead>\n",
       "  <tbody>\n",
       "    <tr>\n",
       "      <th>0</th>\n",
       "      <td>20201733</td>\n",
       "      <td>1940</td>\n",
       "      <td>GD</td>\n",
       "      <td>Married</td>\n",
       "      <td>40548.0</td>\n",
       "      <td>Abhinav Bal</td>\n",
       "    </tr>\n",
       "    <tr>\n",
       "      <th>1</th>\n",
       "      <td>20202059</td>\n",
       "      <td>1943</td>\n",
       "      <td>NaN</td>\n",
       "      <td>Married</td>\n",
       "      <td>65073.0</td>\n",
       "      <td>Nimai Neela</td>\n",
       "    </tr>\n",
       "    <tr>\n",
       "      <th>2</th>\n",
       "      <td>20202195</td>\n",
       "      <td>1944</td>\n",
       "      <td>PH</td>\n",
       "      <td>Divorced</td>\n",
       "      <td>55614.0</td>\n",
       "      <td>Somatra Savant</td>\n",
       "    </tr>\n",
       "    <tr>\n",
       "      <th>3</th>\n",
       "      <td>20201983</td>\n",
       "      <td>1946</td>\n",
       "      <td>GD</td>\n",
       "      <td>Relationship</td>\n",
       "      <td>46276.0</td>\n",
       "      <td>Kamana Nath</td>\n",
       "    </tr>\n",
       "    <tr>\n",
       "      <th>4</th>\n",
       "      <td>20202060</td>\n",
       "      <td>1948</td>\n",
       "      <td>PH</td>\n",
       "      <td>Divorced</td>\n",
       "      <td>46681.0</td>\n",
       "      <td>Ninarika Chandrasekar</td>\n",
       "    </tr>\n",
       "  </tbody>\n",
       "</table>\n",
       "</div>"
      ],
      "text/plain": [
       "    cust_id  year_of_birth educational_status_code marital_status  \\\n",
       "0  20201733           1940                      GD        Married   \n",
       "1  20202059           1943                     NaN        Married   \n",
       "2  20202195           1944                      PH       Divorced   \n",
       "3  20201983           1946                      GD   Relationship   \n",
       "4  20202060           1948                      PH       Divorced   \n",
       "\n",
       "   annual_income              full_name  \n",
       "0        40548.0            Abhinav Bal  \n",
       "1        65073.0            Nimai Neela  \n",
       "2        55614.0         Somatra Savant  \n",
       "3        46276.0            Kamana Nath  \n",
       "4        46681.0  Ninarika Chandrasekar  "
      ]
     },
     "execution_count": 3,
     "metadata": {},
     "output_type": "execute_result"
    }
   ],
   "source": [
    "dfc1.head()"
   ]
  },
  {
   "cell_type": "code",
   "execution_count": 4,
   "id": "85f26a59",
   "metadata": {},
   "outputs": [
    {
     "data": {
      "text/plain": [
       "(111, 6)"
      ]
     },
     "execution_count": 4,
     "metadata": {},
     "output_type": "execute_result"
    }
   ],
   "source": [
    "dfc1.shape"
   ]
  },
  {
   "cell_type": "code",
   "execution_count": 5,
   "id": "d86392e6",
   "metadata": {},
   "outputs": [
    {
     "data": {
      "text/plain": [
       "(280, 6)"
      ]
     },
     "execution_count": 5,
     "metadata": {},
     "output_type": "execute_result"
    }
   ],
   "source": [
    "dfc2.shape"
   ]
  },
  {
   "cell_type": "code",
   "execution_count": 6,
   "id": "ee653a2b",
   "metadata": {},
   "outputs": [
    {
     "data": {
      "text/plain": [
       "(5, 2)"
      ]
     },
     "execution_count": 6,
     "metadata": {},
     "output_type": "execute_result"
    }
   ],
   "source": [
    "dfe.shape"
   ]
  },
  {
   "cell_type": "code",
   "execution_count": 7,
   "id": "3b8f928e",
   "metadata": {},
   "outputs": [
    {
     "data": {
      "text/plain": [
       "(499, 8)"
      ]
     },
     "execution_count": 7,
     "metadata": {},
     "output_type": "execute_result"
    }
   ],
   "source": [
    "dfp.shape"
   ]
  },
  {
   "cell_type": "code",
   "execution_count": 8,
   "id": "60f1e353",
   "metadata": {},
   "outputs": [
    {
     "name": "stdout",
     "output_type": "stream",
     "text": [
      "<class 'pandas.core.frame.DataFrame'>\n",
      "RangeIndex: 499 entries, 0 to 498\n",
      "Data columns (total 8 columns):\n",
      " #   Column            Non-Null Count  Dtype \n",
      "---  ------            --------------  ----- \n",
      " 0   customer_id       499 non-null    int64 \n",
      " 1   purhcase_date     499 non-null    object\n",
      " 2   recency           499 non-null    int64 \n",
      " 3   online_purchases  499 non-null    int64 \n",
      " 4   store_purchases   499 non-null    int64 \n",
      " 5   complaints        499 non-null    int64 \n",
      " 6   calls             499 non-null    int64 \n",
      " 7   intercoms         499 non-null    int64 \n",
      "dtypes: int64(7), object(1)\n",
      "memory usage: 31.3+ KB\n"
     ]
    }
   ],
   "source": [
    "dfp.info()"
   ]
  },
  {
   "cell_type": "code",
   "execution_count": 9,
   "id": "bcd42cd0",
   "metadata": {},
   "outputs": [
    {
     "name": "stdout",
     "output_type": "stream",
     "text": [
      "<class 'pandas.core.frame.DataFrame'>\n",
      "RangeIndex: 111 entries, 0 to 110\n",
      "Data columns (total 6 columns):\n",
      " #   Column                   Non-Null Count  Dtype  \n",
      "---  ------                   --------------  -----  \n",
      " 0   cust_id                  111 non-null    int64  \n",
      " 1   year_of_birth            111 non-null    int64  \n",
      " 2   educational_status_code  103 non-null    object \n",
      " 3   marital_status           111 non-null    object \n",
      " 4   annual_income            105 non-null    float64\n",
      " 5   full_name                111 non-null    object \n",
      "dtypes: float64(1), int64(2), object(3)\n",
      "memory usage: 5.3+ KB\n"
     ]
    }
   ],
   "source": [
    "dfc1.info()"
   ]
  },
  {
   "cell_type": "code",
   "execution_count": 10,
   "id": "2840af88",
   "metadata": {},
   "outputs": [
    {
     "data": {
      "text/html": [
       "<div>\n",
       "<style scoped>\n",
       "    .dataframe tbody tr th:only-of-type {\n",
       "        vertical-align: middle;\n",
       "    }\n",
       "\n",
       "    .dataframe tbody tr th {\n",
       "        vertical-align: top;\n",
       "    }\n",
       "\n",
       "    .dataframe thead th {\n",
       "        text-align: right;\n",
       "    }\n",
       "</style>\n",
       "<table border=\"1\" class=\"dataframe\">\n",
       "  <thead>\n",
       "    <tr style=\"text-align: right;\">\n",
       "      <th></th>\n",
       "      <th>customer_id</th>\n",
       "      <th>recency</th>\n",
       "      <th>online_purchases</th>\n",
       "      <th>store_purchases</th>\n",
       "      <th>complaints</th>\n",
       "      <th>calls</th>\n",
       "      <th>intercoms</th>\n",
       "    </tr>\n",
       "  </thead>\n",
       "  <tbody>\n",
       "    <tr>\n",
       "      <th>count</th>\n",
       "      <td>4.990000e+02</td>\n",
       "      <td>499.000000</td>\n",
       "      <td>499.000000</td>\n",
       "      <td>499.000000</td>\n",
       "      <td>499.000000</td>\n",
       "      <td>499.000000</td>\n",
       "      <td>499.000000</td>\n",
       "    </tr>\n",
       "    <tr>\n",
       "      <th>mean</th>\n",
       "      <td>2.020195e+07</td>\n",
       "      <td>48.228457</td>\n",
       "      <td>3.969940</td>\n",
       "      <td>5.779559</td>\n",
       "      <td>0.252505</td>\n",
       "      <td>3.370741</td>\n",
       "      <td>10.168337</td>\n",
       "    </tr>\n",
       "    <tr>\n",
       "      <th>std</th>\n",
       "      <td>1.441932e+02</td>\n",
       "      <td>29.077101</td>\n",
       "      <td>2.813675</td>\n",
       "      <td>3.301378</td>\n",
       "      <td>1.115953</td>\n",
       "      <td>4.327091</td>\n",
       "      <td>2.800552</td>\n",
       "    </tr>\n",
       "    <tr>\n",
       "      <th>min</th>\n",
       "      <td>2.020170e+07</td>\n",
       "      <td>0.000000</td>\n",
       "      <td>0.000000</td>\n",
       "      <td>0.000000</td>\n",
       "      <td>0.000000</td>\n",
       "      <td>0.000000</td>\n",
       "      <td>2.000000</td>\n",
       "    </tr>\n",
       "    <tr>\n",
       "      <th>25%</th>\n",
       "      <td>2.020183e+07</td>\n",
       "      <td>23.000000</td>\n",
       "      <td>2.000000</td>\n",
       "      <td>3.000000</td>\n",
       "      <td>0.000000</td>\n",
       "      <td>3.000000</td>\n",
       "      <td>11.000000</td>\n",
       "    </tr>\n",
       "    <tr>\n",
       "      <th>50%</th>\n",
       "      <td>2.020195e+07</td>\n",
       "      <td>47.000000</td>\n",
       "      <td>3.000000</td>\n",
       "      <td>5.000000</td>\n",
       "      <td>0.000000</td>\n",
       "      <td>3.000000</td>\n",
       "      <td>11.000000</td>\n",
       "    </tr>\n",
       "    <tr>\n",
       "      <th>75%</th>\n",
       "      <td>2.020207e+07</td>\n",
       "      <td>74.000000</td>\n",
       "      <td>6.000000</td>\n",
       "      <td>8.000000</td>\n",
       "      <td>0.000000</td>\n",
       "      <td>3.000000</td>\n",
       "      <td>11.000000</td>\n",
       "    </tr>\n",
       "    <tr>\n",
       "      <th>max</th>\n",
       "      <td>2.020220e+07</td>\n",
       "      <td>99.000000</td>\n",
       "      <td>27.000000</td>\n",
       "      <td>13.000000</td>\n",
       "      <td>11.000000</td>\n",
       "      <td>88.000000</td>\n",
       "      <td>44.000000</td>\n",
       "    </tr>\n",
       "  </tbody>\n",
       "</table>\n",
       "</div>"
      ],
      "text/plain": [
       "        customer_id     recency  online_purchases  store_purchases  \\\n",
       "count  4.990000e+02  499.000000        499.000000       499.000000   \n",
       "mean   2.020195e+07   48.228457          3.969940         5.779559   \n",
       "std    1.441932e+02   29.077101          2.813675         3.301378   \n",
       "min    2.020170e+07    0.000000          0.000000         0.000000   \n",
       "25%    2.020183e+07   23.000000          2.000000         3.000000   \n",
       "50%    2.020195e+07   47.000000          3.000000         5.000000   \n",
       "75%    2.020207e+07   74.000000          6.000000         8.000000   \n",
       "max    2.020220e+07   99.000000         27.000000        13.000000   \n",
       "\n",
       "       complaints       calls   intercoms  \n",
       "count  499.000000  499.000000  499.000000  \n",
       "mean     0.252505    3.370741   10.168337  \n",
       "std      1.115953    4.327091    2.800552  \n",
       "min      0.000000    0.000000    2.000000  \n",
       "25%      0.000000    3.000000   11.000000  \n",
       "50%      0.000000    3.000000   11.000000  \n",
       "75%      0.000000    3.000000   11.000000  \n",
       "max     11.000000   88.000000   44.000000  "
      ]
     },
     "execution_count": 10,
     "metadata": {},
     "output_type": "execute_result"
    }
   ],
   "source": [
    "dfp.describe()"
   ]
  },
  {
   "cell_type": "code",
   "execution_count": 11,
   "id": "18459c3c",
   "metadata": {},
   "outputs": [
    {
     "data": {
      "text/plain": [
       "cust_id                    0\n",
       "year_of_birth              0\n",
       "educational_status_code    8\n",
       "marital_status             0\n",
       "annual_income              6\n",
       "full_name                  0\n",
       "dtype: int64"
      ]
     },
     "execution_count": 11,
     "metadata": {},
     "output_type": "execute_result"
    }
   ],
   "source": [
    "dfc1.isnull().sum()"
   ]
  },
  {
   "cell_type": "code",
   "execution_count": null,
   "id": "4fbcf4de",
   "metadata": {},
   "outputs": [],
   "source": []
  }
 ],
 "metadata": {
  "kernelspec": {
   "display_name": "Python 3 (ipykernel)",
   "language": "python",
   "name": "python3"
  },
  "language_info": {
   "codemirror_mode": {
    "name": "ipython",
    "version": 3
   },
   "file_extension": ".py",
   "mimetype": "text/x-python",
   "name": "python",
   "nbconvert_exporter": "python",
   "pygments_lexer": "ipython3",
   "version": "3.11.2"
  }
 },
 "nbformat": 4,
 "nbformat_minor": 5
}

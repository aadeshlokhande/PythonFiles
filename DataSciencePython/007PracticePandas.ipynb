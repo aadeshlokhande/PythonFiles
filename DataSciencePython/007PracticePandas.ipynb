{
 "cells": [
  {
   "cell_type": "code",
   "execution_count": null,
   "metadata": {},
   "outputs": [],
   "source": [
    "# Topics to complete-\n",
    "# (1) Statistical Functions\n",
    "# (2) Data Transformations"
   ]
  },
  {
   "cell_type": "code",
   "execution_count": 1,
   "metadata": {},
   "outputs": [],
   "source": [
    "# Importing important libraries\n",
    "import pandas as pd\n",
    "import numpy as np"
   ]
  },
  {
   "cell_type": "code",
   "execution_count": 3,
   "metadata": {},
   "outputs": [
    {
     "data": {
      "text/html": [
       "<div>\n",
       "<style scoped>\n",
       "    .dataframe tbody tr th:only-of-type {\n",
       "        vertical-align: middle;\n",
       "    }\n",
       "\n",
       "    .dataframe tbody tr th {\n",
       "        vertical-align: top;\n",
       "    }\n",
       "\n",
       "    .dataframe thead th {\n",
       "        text-align: right;\n",
       "    }\n",
       "</style>\n",
       "<table border=\"1\" class=\"dataframe\">\n",
       "  <thead>\n",
       "    <tr style=\"text-align: right;\">\n",
       "      <th></th>\n",
       "      <th>Sample</th>\n",
       "      <th>Material1</th>\n",
       "      <th>Material2</th>\n",
       "      <th>Material3</th>\n",
       "      <th>Condition</th>\n",
       "      <th>Octane</th>\n",
       "    </tr>\n",
       "  </thead>\n",
       "  <tbody>\n",
       "    <tr>\n",
       "      <th>0</th>\n",
       "      <td>1</td>\n",
       "      <td>55.33</td>\n",
       "      <td>1.72</td>\n",
       "      <td>54</td>\n",
       "      <td>1.66219</td>\n",
       "      <td>92.19</td>\n",
       "    </tr>\n",
       "    <tr>\n",
       "      <th>1</th>\n",
       "      <td>2</td>\n",
       "      <td>59.13</td>\n",
       "      <td>1.20</td>\n",
       "      <td>53</td>\n",
       "      <td>1.58399</td>\n",
       "      <td>92.74</td>\n",
       "    </tr>\n",
       "    <tr>\n",
       "      <th>2</th>\n",
       "      <td>3</td>\n",
       "      <td>57.39</td>\n",
       "      <td>1.42</td>\n",
       "      <td>55</td>\n",
       "      <td>1.61731</td>\n",
       "      <td>91.88</td>\n",
       "    </tr>\n",
       "    <tr>\n",
       "      <th>3</th>\n",
       "      <td>4</td>\n",
       "      <td>56.43</td>\n",
       "      <td>1.78</td>\n",
       "      <td>55</td>\n",
       "      <td>1.66228</td>\n",
       "      <td>92.80</td>\n",
       "    </tr>\n",
       "    <tr>\n",
       "      <th>4</th>\n",
       "      <td>5</td>\n",
       "      <td>55.98</td>\n",
       "      <td>1.58</td>\n",
       "      <td>54</td>\n",
       "      <td>1.63195</td>\n",
       "      <td>92.56</td>\n",
       "    </tr>\n",
       "  </tbody>\n",
       "</table>\n",
       "</div>"
      ],
      "text/plain": [
       "   Sample  Material1  Material2  Material3  Condition  Octane\n",
       "0       1      55.33       1.72         54    1.66219   92.19\n",
       "1       2      59.13       1.20         53    1.58399   92.74\n",
       "2       3      57.39       1.42         55    1.61731   91.88\n",
       "3       4      56.43       1.78         55    1.66228   92.80\n",
       "4       5      55.98       1.58         54    1.63195   92.56"
      ]
     },
     "execution_count": 3,
     "metadata": {},
     "output_type": "execute_result"
    }
   ],
   "source": [
    "# Importing the dataset\n",
    "df = pd.read_csv('Octane.csv')\n",
    "df.head()"
   ]
  },
  {
   "cell_type": "code",
   "execution_count": 11,
   "metadata": {},
   "outputs": [
    {
     "name": "stdout",
     "output_type": "stream",
     "text": [
      "Sample\t\t= 41.5\n",
      "Material1\t= 60.170609756097555\n",
      "Material1\t= 1.663658536585366\n",
      "Material1\t= 55.46341463414634\n",
      "Condition\t= 1.6265713414634146\n",
      "Octane\t\t= 91.84987804878048\n"
     ]
    }
   ],
   "source": [
    "# Calculating mean for Material1, Material2, Material3, Condition and Octane columns\n",
    "print(\"Sample\\t\\t=\",df[\"Sample\"].mean())\n",
    "print(\"Material1\\t=\",df[\"Material1\"].mean())\n",
    "print(\"Material1\\t=\",df[\"Material2\"].mean())\n",
    "print(\"Material1\\t=\",df[\"Material3\"].mean())\n",
    "print(\"Condition\\t=\",df[\"Condition\"].mean())\n",
    "print(\"Octane\\t\\t=\",df[\"Octane\"].mean())\n"
   ]
  },
  {
   "cell_type": "code",
   "execution_count": 14,
   "metadata": {},
   "outputs": [
    {
     "name": "stdout",
     "output_type": "stream",
     "text": [
      "Sample\t=\t 41.5\n",
      "Material1\t=\t 60.170609756097555\n",
      "Material2\t=\t 1.663658536585366\n",
      "Material3\t=\t 55.46341463414634\n",
      "Condition\t=\t 1.6265713414634146\n",
      "Octane\t=\t 91.84987804878048\n"
     ]
    }
   ],
   "source": [
    "# with for loop\n",
    "for i in df:\n",
    "    print(f\"{i}\\t=\\t\",df[i].mean())"
   ]
  },
  {
   "cell_type": "code",
   "execution_count": 22,
   "metadata": {},
   "outputs": [
    {
     "name": "stdout",
     "output_type": "stream",
     "text": [
      "mean of Material1\t=\t 60.170609756097555\n",
      "mean of Material2\t=\t 1.663658536585366\n",
      "mean of Material3\t=\t 55.46341463414634\n",
      "mean of Condition\t=\t 1.6265713414634146\n",
      "mean of Octane\t=\t 91.84987804878048\n"
     ]
    }
   ],
   "source": [
    "# with for loop\n",
    "for i in df.columns[1:]:\n",
    "    print(f\"mean of {i}\\t=\\t\",df[i].mean())"
   ]
  },
  {
   "cell_type": "code",
   "execution_count": 24,
   "metadata": {},
   "outputs": [
    {
     "name": "stdout",
     "output_type": "stream",
     "text": [
      "median of Material1\t=\t 62.695\n",
      "median of Material2\t=\t 1.28\n",
      "median of Material3\t=\t 56.0\n",
      "median of Condition\t=\t 1.6035750000000002\n",
      "median of Octane\t=\t 91.735\n"
     ]
    }
   ],
   "source": [
    "# Calculating median for Material1, Material2, Material3, Condition and Octane columns\n",
    "for i in df.columns[1:]:\n",
    "    print(f\"median of {i}\\t=\\t\",df[i].median())"
   ]
  },
  {
   "cell_type": "code",
   "execution_count": 25,
   "metadata": {},
   "outputs": [
    {
     "name": "stdout",
     "output_type": "stream",
     "text": [
      "mode of Material1\t=\t 0      4.23\n",
      "1      5.53\n",
      "2     17.11\n",
      "3     44.64\n",
      "4     44.66\n",
      "      ...  \n",
      "77    72.30\n",
      "78    72.66\n",
      "79    73.13\n",
      "80    73.74\n",
      "81    75.54\n",
      "Name: Material1, Length: 82, dtype: float64\n",
      "mode of Material2\t=\t 0    0.0\n",
      "Name: Material2, dtype: float64\n",
      "mode of Material3\t=\t 0    55\n",
      "Name: Material3, dtype: int64\n",
      "mode of Condition\t=\t 0     1.19975\n",
      "1     1.20817\n",
      "2     1.26174\n",
      "3     1.28802\n",
      "4     1.29842\n",
      "       ...   \n",
      "77    2.08081\n",
      "78    2.14314\n",
      "79    2.17070\n",
      "80    2.17140\n",
      "81    2.31909\n",
      "Name: Condition, Length: 82, dtype: float64\n",
      "mode of Octane\t=\t 0    91.56\n",
      "1    91.61\n",
      "2    92.16\n",
      "Name: Octane, dtype: float64\n"
     ]
    }
   ],
   "source": [
    "# Calculating mode for Material1, Material2, Material3, Condition and Octane columns\n",
    "for i in df.columns[1:]:\n",
    "    print(f\"mode of {i}\\t=\\t\",df[i].mode())"
   ]
  },
  {
   "cell_type": "code",
   "execution_count": 28,
   "metadata": {},
   "outputs": [
    {
     "name": "stdout",
     "output_type": "stream",
     "text": [
      "mode of Material1\t=\t 60.170609756097555\n",
      "mode of Material2\t=\t 1.663658536585366\n",
      "mode of Material3\t=\t 55.46341463414634\n",
      "mode of Condition\t=\t 1.6265713414634146\n",
      "mode of Octane\t=\t 91.84987804878048\n"
     ]
    }
   ],
   "source": [
    "# mean using numpy\n",
    "for i in df.columns[1:]:\n",
    "    print(f\"mode of {i}\\t=\\t\",np.mean(df[i]))"
   ]
  },
  {
   "cell_type": "code",
   "execution_count": 35,
   "metadata": {},
   "outputs": [
    {
     "name": "stdout",
     "output_type": "stream",
     "text": [
      "median of Material1\t=\t 62.695\n",
      "median of Material2\t=\t 1.28\n",
      "median of Material3\t=\t 56.0\n",
      "median of Condition\t=\t 1.6035750000000002\n",
      "median of Octane\t=\t 91.735\n"
     ]
    }
   ],
   "source": [
    "# median using numpy\n",
    "for i in df.columns[1:]:\n",
    "    print(f\"median of {i}\\t=\\t\",np.median(df[i]))"
   ]
  },
  {
   "cell_type": "code",
   "execution_count": 49,
   "metadata": {},
   "outputs": [
    {
     "name": "stdout",
     "output_type": "stream",
     "text": [
      "count of Material1\t=\t 82\n",
      "count of Material2\t=\t 82\n",
      "count of Material3\t=\t 82\n",
      "count of Condition\t=\t 82\n",
      "count of Octane\t=\t 82\n"
     ]
    }
   ],
   "source": [
    "# Calculating count() for Material1, Material2, Material3, Condition and Octane columns\n",
    "\n",
    "for i in df.columns[1:]:\n",
    "    print(f\"count of {i}\\t=\\t\",df[i].count())"
   ]
  },
  {
   "cell_type": "code",
   "execution_count": 56,
   "metadata": {},
   "outputs": [
    {
     "name": "stdout",
     "output_type": "stream",
     "text": [
      "DF has 82 rows\n",
      "DF has 6 column\n"
     ]
    }
   ],
   "source": [
    "# Printing the shape of df\n",
    "shape = df.shape\n",
    "print(f\"DF has {shape[0]} rows\")\n",
    "print(f\"DF has {shape[1]} column\")"
   ]
  },
  {
   "cell_type": "code",
   "execution_count": 57,
   "metadata": {},
   "outputs": [
    {
     "name": "stdout",
     "output_type": "stream",
     "text": [
      "unique deviation of Material1\t=\t [55.33 59.13 57.39 56.43 55.98 56.16 54.85 52.83 54.52 54.12 51.72 51.29\n",
      " 53.22 54.76 53.34 54.84 54.03 51.44 53.54 57.88 60.93 59.59 61.42 56.6\n",
      " 59.94 58.3  58.25 55.53 59.79 57.51 62.82 62.57 60.23 65.08 65.58 65.64\n",
      " 65.28 65.03 67.84 73.74 72.66 71.31 72.3  68.81 66.61 63.66 63.85 67.25\n",
      " 67.19 62.34 62.98 69.89 73.13 65.09 64.71 64.05 63.97 70.48 71.11 69.05\n",
      " 71.99 72.03 69.9  72.16 70.97 70.55 69.73 69.93 70.6  75.54 49.14 49.1\n",
      " 44.66 44.64  4.23  5.53 17.11 67.6  64.81 63.13 63.48 62.25]\n",
      "unique deviation of Material2\t=\t [ 1.72  1.2   1.42  1.78  1.58  2.12  1.17  1.5   0.87  0.88  0.    1.31\n",
      "  1.67  1.81  2.87  1.19  0.42  1.39  1.28  1.22  1.13  1.49  2.1   2.29\n",
      "  3.11  3.1   2.88  1.48  0.12  0.1   0.05  0.65  0.49  3.44  4.02  6.88\n",
      "  2.31  2.99  0.24  1.01  0.61  1.64  2.8   4.64  3.56  2.51  2.19  0.51\n",
      "  0.09  0.06  4.99  3.73 10.76  7.99  5.06  1.84  2.24  1.6   3.46]\n",
      "unique deviation of Material3\t=\t [54 53 55 56 58 57 59 60 62 61 63 64 52 50 48 47 40 42 44 41]\n",
      "unique deviation of Condition\t=\t [1.66219 1.58399 1.61731 1.66228 1.63195 1.68034 1.58206 1.54998 1.5623\n",
      " 1.57818 1.60401 1.59594 1.54814 1.63134 1.60228 1.54949 1.57841 1.61183\n",
      " 1.51081 1.56443 1.53995 1.56949 1.4133  1.54777 1.65523 1.29994 1.19975\n",
      " 1.20817 1.30621 1.29842 1.40483 1.45056 1.54357 1.6894  1.74695 1.74919\n",
      " 1.78053 1.78104 1.72387 1.73496 1.71966 1.60325 1.66783 1.69836 1.77967\n",
      " 1.81271 1.81485 1.72526 1.86782 2.00677 1.95366 1.89387 1.81651 1.45939\n",
      " 1.38934 1.33945 1.42094 1.5768  1.41229 1.54605 1.55182 1.6039  1.67265\n",
      " 1.55242 1.45728 1.26174 1.28802 1.36399 1.4221  1.67219 2.1714  2.31909\n",
      " 2.14314 2.08081 2.1707  1.99418 1.61437 1.64758 1.69592 1.66118 1.48216\n",
      " 1.49734]\n",
      "unique deviation of Octane\t=\t [92.19 92.74 91.88 92.8  92.56 92.61 92.33 92.22 91.56 92.17 92.75 92.89\n",
      " 92.79 92.55 92.42 92.43 92.77 92.6  92.3  92.48 91.61 91.3  91.37 91.25\n",
      " 90.76 90.9  90.43 90.83 92.18 91.73 91.1  91.74 91.46 91.44 91.9  92.09\n",
      " 90.64 91.09 90.51 90.24 91.01 91.92 92.16 91.36 92.68 92.88 92.59 91.35\n",
      " 90.29 90.71 90.41 89.87 89.98 90.   89.66 90.08 90.67 90.59 91.06 90.69\n",
      " 91.11 90.32 90.36 90.57 94.17 94.39 93.42 94.65 97.61 97.08 95.12 91.86]\n"
     ]
    }
   ],
   "source": [
    "# unique() : gives you unique values.\n",
    "for i in df.columns[1:]:\n",
    "    print(f\"unique deviation of {i}\\t=\\t\",df[i].unique())"
   ]
  },
  {
   "cell_type": "code",
   "execution_count": 55,
   "metadata": {},
   "outputs": [
    {
     "name": "stdout",
     "output_type": "stream",
     "text": [
      "standard deviation of Material1\t=\t 82\n",
      "standard deviation of Material2\t=\t 59\n",
      "standard deviation of Material3\t=\t 20\n",
      "standard deviation of Condition\t=\t 82\n",
      "standard deviation of Octane\t=\t 72\n"
     ]
    }
   ],
   "source": [
    "\n",
    "# nunique() : gives you number of rows with unique values.\n",
    "for i in df.columns[1:]:\n",
    "    print(f\"non unique deviation of {i}\\t=\\t\",df[i].nunique())"
   ]
  },
  {
   "cell_type": "code",
   "execution_count": 53,
   "metadata": {},
   "outputs": [
    {
     "name": "stdout",
     "output_type": "stream",
     "text": [
      "min of Material1\t=\t 12.43739992552937\n",
      "min of Material2\t=\t 1.901951896806471\n",
      "min of Material3\t=\t 5.377582921059388\n",
      "min of Condition\t=\t 0.2197298227524435\n",
      "min of Octane\t=\t 1.4011243226995753\n"
     ]
    }
   ],
   "source": [
    "# Calculating standard deviation for Material1, Material2, Material3, Condition and Octane columns\n",
    "for i in df.columns[1:]:\n",
    "    print(f\"standard deviation of {i}\\t=\\t\",df[i].std())"
   ]
  },
  {
   "cell_type": "code",
   "execution_count": 52,
   "metadata": {},
   "outputs": [
    {
     "name": "stdout",
     "output_type": "stream",
     "text": [
      "min of Material1\t=\t 4.23\n",
      "min of Material2\t=\t 0.0\n",
      "min of Material3\t=\t 40\n",
      "min of Condition\t=\t 1.19975\n",
      "min of Octane\t=\t 89.66\n"
     ]
    }
   ],
   "source": [
    "# Calculating minimum for Material1, Material2, Material3, Condition and Octane columns\n",
    "for i in df.columns[1:]:\n",
    "    print(f\"min of {i}\\t=\\t\",df[i].min())"
   ]
  },
  {
   "cell_type": "code",
   "execution_count": 51,
   "metadata": {},
   "outputs": [
    {
     "name": "stdout",
     "output_type": "stream",
     "text": [
      "count of Material1\t=\t 75.54\n",
      "count of Material2\t=\t 10.76\n",
      "count of Material3\t=\t 64\n",
      "count of Condition\t=\t 2.31909\n",
      "count of Octane\t=\t 97.61\n"
     ]
    }
   ],
   "source": [
    "# Calculating maximum for Material1, Material2, Material3, Condition and Octane columns\n",
    "for i in df.columns[1:]:\n",
    "    print(f\"max of {i}\\t=\\t\",df[i].max())"
   ]
  },
  {
   "cell_type": "code",
   "execution_count": 47,
   "metadata": {},
   "outputs": [
    {
     "data": {
      "text/html": [
       "<div>\n",
       "<style scoped>\n",
       "    .dataframe tbody tr th:only-of-type {\n",
       "        vertical-align: middle;\n",
       "    }\n",
       "\n",
       "    .dataframe tbody tr th {\n",
       "        vertical-align: top;\n",
       "    }\n",
       "\n",
       "    .dataframe thead th {\n",
       "        text-align: right;\n",
       "    }\n",
       "</style>\n",
       "<table border=\"1\" class=\"dataframe\">\n",
       "  <thead>\n",
       "    <tr style=\"text-align: right;\">\n",
       "      <th></th>\n",
       "      <th>Sample</th>\n",
       "      <th>Material1</th>\n",
       "      <th>Material2</th>\n",
       "      <th>Material3</th>\n",
       "      <th>Condition</th>\n",
       "      <th>Octane</th>\n",
       "    </tr>\n",
       "  </thead>\n",
       "  <tbody>\n",
       "    <tr>\n",
       "      <th>count</th>\n",
       "      <td>82.000000</td>\n",
       "      <td>82.00000</td>\n",
       "      <td>82.000000</td>\n",
       "      <td>82.000000</td>\n",
       "      <td>82.000000</td>\n",
       "      <td>82.000000</td>\n",
       "    </tr>\n",
       "    <tr>\n",
       "      <th>mean</th>\n",
       "      <td>41.500000</td>\n",
       "      <td>60.17061</td>\n",
       "      <td>1.663659</td>\n",
       "      <td>55.463415</td>\n",
       "      <td>1.626571</td>\n",
       "      <td>91.849878</td>\n",
       "    </tr>\n",
       "    <tr>\n",
       "      <th>std</th>\n",
       "      <td>23.815261</td>\n",
       "      <td>12.43740</td>\n",
       "      <td>1.901952</td>\n",
       "      <td>5.377583</td>\n",
       "      <td>0.219730</td>\n",
       "      <td>1.401124</td>\n",
       "    </tr>\n",
       "    <tr>\n",
       "      <th>min</th>\n",
       "      <td>1.000000</td>\n",
       "      <td>4.23000</td>\n",
       "      <td>0.000000</td>\n",
       "      <td>40.000000</td>\n",
       "      <td>1.199750</td>\n",
       "      <td>89.660000</td>\n",
       "    </tr>\n",
       "    <tr>\n",
       "      <th>25%</th>\n",
       "      <td>21.250000</td>\n",
       "      <td>55.38000</td>\n",
       "      <td>0.105000</td>\n",
       "      <td>54.000000</td>\n",
       "      <td>1.518095</td>\n",
       "      <td>90.847500</td>\n",
       "    </tr>\n",
       "    <tr>\n",
       "      <th>50%</th>\n",
       "      <td>41.500000</td>\n",
       "      <td>62.69500</td>\n",
       "      <td>1.280000</td>\n",
       "      <td>56.000000</td>\n",
       "      <td>1.603575</td>\n",
       "      <td>91.735000</td>\n",
       "    </tr>\n",
       "    <tr>\n",
       "      <th>75%</th>\n",
       "      <td>61.750000</td>\n",
       "      <td>67.78000</td>\n",
       "      <td>2.277500</td>\n",
       "      <td>59.750000</td>\n",
       "      <td>1.722818</td>\n",
       "      <td>92.467500</td>\n",
       "    </tr>\n",
       "    <tr>\n",
       "      <th>max</th>\n",
       "      <td>82.000000</td>\n",
       "      <td>75.54000</td>\n",
       "      <td>10.760000</td>\n",
       "      <td>64.000000</td>\n",
       "      <td>2.319090</td>\n",
       "      <td>97.610000</td>\n",
       "    </tr>\n",
       "  </tbody>\n",
       "</table>\n",
       "</div>"
      ],
      "text/plain": [
       "          Sample  Material1  Material2  Material3  Condition     Octane\n",
       "count  82.000000   82.00000  82.000000  82.000000  82.000000  82.000000\n",
       "mean   41.500000   60.17061   1.663659  55.463415   1.626571  91.849878\n",
       "std    23.815261   12.43740   1.901952   5.377583   0.219730   1.401124\n",
       "min     1.000000    4.23000   0.000000  40.000000   1.199750  89.660000\n",
       "25%    21.250000   55.38000   0.105000  54.000000   1.518095  90.847500\n",
       "50%    41.500000   62.69500   1.280000  56.000000   1.603575  91.735000\n",
       "75%    61.750000   67.78000   2.277500  59.750000   1.722818  92.467500\n",
       "max    82.000000   75.54000  10.760000  64.000000   2.319090  97.610000"
      ]
     },
     "execution_count": 47,
     "metadata": {},
     "output_type": "execute_result"
    }
   ],
   "source": [
    "# Getting all the statistical parameters in one command\n",
    "df.describe()"
   ]
  },
  {
   "cell_type": "code",
   "execution_count": null,
   "metadata": {},
   "outputs": [],
   "source": [
    "# Data Transformations"
   ]
  },
  {
   "cell_type": "code",
   "execution_count": 109,
   "metadata": {},
   "outputs": [
    {
     "data": {
      "text/html": [
       "<div>\n",
       "<style scoped>\n",
       "    .dataframe tbody tr th:only-of-type {\n",
       "        vertical-align: middle;\n",
       "    }\n",
       "\n",
       "    .dataframe tbody tr th {\n",
       "        vertical-align: top;\n",
       "    }\n",
       "\n",
       "    .dataframe thead th {\n",
       "        text-align: right;\n",
       "    }\n",
       "</style>\n",
       "<table border=\"1\" class=\"dataframe\">\n",
       "  <thead>\n",
       "    <tr style=\"text-align: right;\">\n",
       "      <th></th>\n",
       "      <th>Age</th>\n",
       "      <th>Gender</th>\n",
       "      <th>Grade</th>\n",
       "      <th>Employed</th>\n",
       "    </tr>\n",
       "    <tr>\n",
       "      <th>Student_id</th>\n",
       "      <th></th>\n",
       "      <th></th>\n",
       "      <th></th>\n",
       "      <th></th>\n",
       "    </tr>\n",
       "  </thead>\n",
       "  <tbody>\n",
       "    <tr>\n",
       "      <th>1</th>\n",
       "      <td>19</td>\n",
       "      <td>Male</td>\n",
       "      <td>1st Class</td>\n",
       "      <td>yes</td>\n",
       "    </tr>\n",
       "    <tr>\n",
       "      <th>2</th>\n",
       "      <td>20</td>\n",
       "      <td>Female</td>\n",
       "      <td>2nd Class</td>\n",
       "      <td>no</td>\n",
       "    </tr>\n",
       "    <tr>\n",
       "      <th>3</th>\n",
       "      <td>18</td>\n",
       "      <td>Male</td>\n",
       "      <td>1st Class</td>\n",
       "      <td>no</td>\n",
       "    </tr>\n",
       "    <tr>\n",
       "      <th>4</th>\n",
       "      <td>21</td>\n",
       "      <td>Female</td>\n",
       "      <td>2nd Class</td>\n",
       "      <td>no</td>\n",
       "    </tr>\n",
       "    <tr>\n",
       "      <th>5</th>\n",
       "      <td>19</td>\n",
       "      <td>Male</td>\n",
       "      <td>1st Class</td>\n",
       "      <td>no</td>\n",
       "    </tr>\n",
       "  </tbody>\n",
       "</table>\n",
       "</div>"
      ],
      "text/plain": [
       "            Age  Gender      Grade Employed\n",
       "Student_id                                 \n",
       "1            19    Male  1st Class      yes\n",
       "2            20  Female  2nd Class       no\n",
       "3            18    Male  1st Class       no\n",
       "4            21  Female  2nd Class       no\n",
       "5            19    Male  1st Class       no"
      ]
     },
     "execution_count": 109,
     "metadata": {},
     "output_type": "execute_result"
    }
   ],
   "source": [
    "# Importing new dataset\n",
    "df = pd.read_csv('https://raw.githubusercontent.com/TrainingByPackt/Data-Science-with-Python/master/Chapter01/Data/student.csv',index_col=0)\n",
    "df.head()"
   ]
  },
  {
   "cell_type": "code",
   "execution_count": 62,
   "metadata": {},
   "outputs": [
    {
     "name": "stdout",
     "output_type": "stream",
     "text": [
      "<class 'pandas.core.frame.DataFrame'>\n",
      "Int64Index: 232 entries, 1 to 232\n",
      "Data columns (total 4 columns):\n",
      " #   Column    Non-Null Count  Dtype \n",
      "---  ------    --------------  ----- \n",
      " 0   Age       232 non-null    int64 \n",
      " 1   Gender    232 non-null    object\n",
      " 2   Grade     232 non-null    object\n",
      " 3   Employed  232 non-null    object\n",
      "dtypes: int64(1), object(3)\n",
      "memory usage: 9.1+ KB\n"
     ]
    }
   ],
   "source": [
    "df.info()"
   ]
  },
  {
   "cell_type": "code",
   "execution_count": 72,
   "metadata": {},
   "outputs": [
    {
     "data": {
      "text/html": [
       "<div>\n",
       "<style scoped>\n",
       "    .dataframe tbody tr th:only-of-type {\n",
       "        vertical-align: middle;\n",
       "    }\n",
       "\n",
       "    .dataframe tbody tr th {\n",
       "        vertical-align: top;\n",
       "    }\n",
       "\n",
       "    .dataframe thead th {\n",
       "        text-align: right;\n",
       "    }\n",
       "</style>\n",
       "<table border=\"1\" class=\"dataframe\">\n",
       "  <thead>\n",
       "    <tr style=\"text-align: right;\">\n",
       "      <th></th>\n",
       "      <th>Gender</th>\n",
       "      <th>Grade</th>\n",
       "      <th>Employed</th>\n",
       "    </tr>\n",
       "    <tr>\n",
       "      <th>Student_id</th>\n",
       "      <th></th>\n",
       "      <th></th>\n",
       "      <th></th>\n",
       "    </tr>\n",
       "  </thead>\n",
       "  <tbody>\n",
       "    <tr>\n",
       "      <th>1</th>\n",
       "      <td>Male</td>\n",
       "      <td>1st Class</td>\n",
       "      <td>yes</td>\n",
       "    </tr>\n",
       "    <tr>\n",
       "      <th>2</th>\n",
       "      <td>Female</td>\n",
       "      <td>2nd Class</td>\n",
       "      <td>no</td>\n",
       "    </tr>\n",
       "    <tr>\n",
       "      <th>3</th>\n",
       "      <td>Male</td>\n",
       "      <td>1st Class</td>\n",
       "      <td>no</td>\n",
       "    </tr>\n",
       "    <tr>\n",
       "      <th>4</th>\n",
       "      <td>Female</td>\n",
       "      <td>2nd Class</td>\n",
       "      <td>no</td>\n",
       "    </tr>\n",
       "    <tr>\n",
       "      <th>5</th>\n",
       "      <td>Male</td>\n",
       "      <td>1st Class</td>\n",
       "      <td>no</td>\n",
       "    </tr>\n",
       "  </tbody>\n",
       "</table>\n",
       "</div>"
      ],
      "text/plain": [
       "            Gender      Grade Employed\n",
       "Student_id                            \n",
       "1             Male  1st Class      yes\n",
       "2           Female  2nd Class       no\n",
       "3             Male  1st Class       no\n",
       "4           Female  2nd Class       no\n",
       "5             Male  1st Class       no"
      ]
     },
     "execution_count": 72,
     "metadata": {},
     "output_type": "execute_result"
    }
   ],
   "source": [
    "# Command to include and exclude columns of numeric data type\n",
    "df.select_dtypes(exclude='int64').head()"
   ]
  },
  {
   "cell_type": "code",
   "execution_count": 73,
   "metadata": {},
   "outputs": [
    {
     "data": {
      "text/html": [
       "<div>\n",
       "<style scoped>\n",
       "    .dataframe tbody tr th:only-of-type {\n",
       "        vertical-align: middle;\n",
       "    }\n",
       "\n",
       "    .dataframe tbody tr th {\n",
       "        vertical-align: top;\n",
       "    }\n",
       "\n",
       "    .dataframe thead th {\n",
       "        text-align: right;\n",
       "    }\n",
       "</style>\n",
       "<table border=\"1\" class=\"dataframe\">\n",
       "  <thead>\n",
       "    <tr style=\"text-align: right;\">\n",
       "      <th></th>\n",
       "      <th>Age</th>\n",
       "    </tr>\n",
       "    <tr>\n",
       "      <th>Student_id</th>\n",
       "      <th></th>\n",
       "    </tr>\n",
       "  </thead>\n",
       "  <tbody>\n",
       "    <tr>\n",
       "      <th>1</th>\n",
       "      <td>19</td>\n",
       "    </tr>\n",
       "    <tr>\n",
       "      <th>2</th>\n",
       "      <td>20</td>\n",
       "    </tr>\n",
       "    <tr>\n",
       "      <th>3</th>\n",
       "      <td>18</td>\n",
       "    </tr>\n",
       "    <tr>\n",
       "      <th>4</th>\n",
       "      <td>21</td>\n",
       "    </tr>\n",
       "    <tr>\n",
       "      <th>5</th>\n",
       "      <td>19</td>\n",
       "    </tr>\n",
       "  </tbody>\n",
       "</table>\n",
       "</div>"
      ],
      "text/plain": [
       "            Age\n",
       "Student_id     \n",
       "1            19\n",
       "2            20\n",
       "3            18\n",
       "4            21\n",
       "5            19"
      ]
     },
     "execution_count": 73,
     "metadata": {},
     "output_type": "execute_result"
    }
   ],
   "source": [
    "df.select_dtypes(include='int64').head()"
   ]
  },
  {
   "cell_type": "code",
   "execution_count": null,
   "metadata": {},
   "outputs": [],
   "source": [
    "# Command to include and exclude columns of object data type\n"
   ]
  },
  {
   "cell_type": "code",
   "execution_count": 74,
   "metadata": {},
   "outputs": [
    {
     "data": {
      "text/html": [
       "<div>\n",
       "<style scoped>\n",
       "    .dataframe tbody tr th:only-of-type {\n",
       "        vertical-align: middle;\n",
       "    }\n",
       "\n",
       "    .dataframe tbody tr th {\n",
       "        vertical-align: top;\n",
       "    }\n",
       "\n",
       "    .dataframe thead th {\n",
       "        text-align: right;\n",
       "    }\n",
       "</style>\n",
       "<table border=\"1\" class=\"dataframe\">\n",
       "  <thead>\n",
       "    <tr style=\"text-align: right;\">\n",
       "      <th></th>\n",
       "      <th>Age</th>\n",
       "    </tr>\n",
       "    <tr>\n",
       "      <th>Student_id</th>\n",
       "      <th></th>\n",
       "    </tr>\n",
       "  </thead>\n",
       "  <tbody>\n",
       "    <tr>\n",
       "      <th>1</th>\n",
       "      <td>19</td>\n",
       "    </tr>\n",
       "    <tr>\n",
       "      <th>2</th>\n",
       "      <td>20</td>\n",
       "    </tr>\n",
       "    <tr>\n",
       "      <th>3</th>\n",
       "      <td>18</td>\n",
       "    </tr>\n",
       "    <tr>\n",
       "      <th>4</th>\n",
       "      <td>21</td>\n",
       "    </tr>\n",
       "    <tr>\n",
       "      <th>5</th>\n",
       "      <td>19</td>\n",
       "    </tr>\n",
       "  </tbody>\n",
       "</table>\n",
       "</div>"
      ],
      "text/plain": [
       "            Age\n",
       "Student_id     \n",
       "1            19\n",
       "2            20\n",
       "3            18\n",
       "4            21\n",
       "5            19"
      ]
     },
     "execution_count": 74,
     "metadata": {},
     "output_type": "execute_result"
    }
   ],
   "source": [
    "df.select_dtypes(exclude='object').head()"
   ]
  },
  {
   "cell_type": "code",
   "execution_count": 75,
   "metadata": {},
   "outputs": [
    {
     "data": {
      "text/html": [
       "<div>\n",
       "<style scoped>\n",
       "    .dataframe tbody tr th:only-of-type {\n",
       "        vertical-align: middle;\n",
       "    }\n",
       "\n",
       "    .dataframe tbody tr th {\n",
       "        vertical-align: top;\n",
       "    }\n",
       "\n",
       "    .dataframe thead th {\n",
       "        text-align: right;\n",
       "    }\n",
       "</style>\n",
       "<table border=\"1\" class=\"dataframe\">\n",
       "  <thead>\n",
       "    <tr style=\"text-align: right;\">\n",
       "      <th></th>\n",
       "      <th>Gender</th>\n",
       "      <th>Grade</th>\n",
       "      <th>Employed</th>\n",
       "    </tr>\n",
       "    <tr>\n",
       "      <th>Student_id</th>\n",
       "      <th></th>\n",
       "      <th></th>\n",
       "      <th></th>\n",
       "    </tr>\n",
       "  </thead>\n",
       "  <tbody>\n",
       "    <tr>\n",
       "      <th>1</th>\n",
       "      <td>Male</td>\n",
       "      <td>1st Class</td>\n",
       "      <td>yes</td>\n",
       "    </tr>\n",
       "    <tr>\n",
       "      <th>2</th>\n",
       "      <td>Female</td>\n",
       "      <td>2nd Class</td>\n",
       "      <td>no</td>\n",
       "    </tr>\n",
       "    <tr>\n",
       "      <th>3</th>\n",
       "      <td>Male</td>\n",
       "      <td>1st Class</td>\n",
       "      <td>no</td>\n",
       "    </tr>\n",
       "    <tr>\n",
       "      <th>4</th>\n",
       "      <td>Female</td>\n",
       "      <td>2nd Class</td>\n",
       "      <td>no</td>\n",
       "    </tr>\n",
       "    <tr>\n",
       "      <th>5</th>\n",
       "      <td>Male</td>\n",
       "      <td>1st Class</td>\n",
       "      <td>no</td>\n",
       "    </tr>\n",
       "  </tbody>\n",
       "</table>\n",
       "</div>"
      ],
      "text/plain": [
       "            Gender      Grade Employed\n",
       "Student_id                            \n",
       "1             Male  1st Class      yes\n",
       "2           Female  2nd Class       no\n",
       "3             Male  1st Class       no\n",
       "4           Female  2nd Class       no\n",
       "5             Male  1st Class       no"
      ]
     },
     "execution_count": 75,
     "metadata": {},
     "output_type": "execute_result"
    }
   ],
   "source": [
    "df.select_dtypes(include='object').head()"
   ]
  },
  {
   "cell_type": "code",
   "execution_count": null,
   "metadata": {},
   "outputs": [],
   "source": []
  },
  {
   "cell_type": "code",
   "execution_count": 76,
   "metadata": {},
   "outputs": [
    {
     "data": {
      "text/plain": [
       "3"
      ]
     },
     "execution_count": 76,
     "metadata": {},
     "output_type": "execute_result"
    }
   ],
   "source": [
    "# Getting unique values from Grade column\n",
    "df[\"Grade\"].nunique()"
   ]
  },
  {
   "cell_type": "code",
   "execution_count": 77,
   "metadata": {},
   "outputs": [
    {
     "data": {
      "text/plain": [
       "array(['1st Class', '2nd Class', '3rd Class'], dtype=object)"
      ]
     },
     "execution_count": 77,
     "metadata": {},
     "output_type": "execute_result"
    }
   ],
   "source": [
    "# Getting number of unique values from grade column\n",
    "df[\"Grade\"].unique()"
   ]
  },
  {
   "cell_type": "code",
   "execution_count": 78,
   "metadata": {},
   "outputs": [
    {
     "data": {
      "text/plain": [
       "2nd Class    80\n",
       "3rd Class    80\n",
       "1st Class    72\n",
       "Name: Grade, dtype: int64"
      ]
     },
     "execution_count": 78,
     "metadata": {},
     "output_type": "execute_result"
    }
   ],
   "source": [
    "# Getting the proportion of categories from categorical columns\n",
    "df[\"Grade\"].value_counts()"
   ]
  },
  {
   "cell_type": "code",
   "execution_count": 79,
   "metadata": {},
   "outputs": [
    {
     "data": {
      "text/plain": [
       "Male      136\n",
       "Female     96\n",
       "Name: Gender, dtype: int64"
      ]
     },
     "execution_count": 79,
     "metadata": {},
     "output_type": "execute_result"
    }
   ],
   "source": [
    "# Getting the proportion of categories from gender columns\n",
    "df[\"Gender\"].value_counts()"
   ]
  },
  {
   "cell_type": "code",
   "execution_count": null,
   "metadata": {},
   "outputs": [],
   "source": [
    "# Getting the proportion of categories from employed columns\n",
    "df[\"Employed\"].value_counts()"
   ]
  },
  {
   "cell_type": "code",
   "execution_count": 98,
   "metadata": {},
   "outputs": [
    {
     "data": {
      "text/html": [
       "<div>\n",
       "<style scoped>\n",
       "    .dataframe tbody tr th:only-of-type {\n",
       "        vertical-align: middle;\n",
       "    }\n",
       "\n",
       "    .dataframe tbody tr th {\n",
       "        vertical-align: top;\n",
       "    }\n",
       "\n",
       "    .dataframe thead th {\n",
       "        text-align: right;\n",
       "    }\n",
       "</style>\n",
       "<table border=\"1\" class=\"dataframe\">\n",
       "  <thead>\n",
       "    <tr style=\"text-align: right;\">\n",
       "      <th></th>\n",
       "      <th>Age</th>\n",
       "      <th>Gender</th>\n",
       "      <th>Grade</th>\n",
       "      <th>Employed</th>\n",
       "    </tr>\n",
       "    <tr>\n",
       "      <th>Student_id</th>\n",
       "      <th></th>\n",
       "      <th></th>\n",
       "      <th></th>\n",
       "      <th></th>\n",
       "    </tr>\n",
       "  </thead>\n",
       "  <tbody>\n",
       "    <tr>\n",
       "      <th>1</th>\n",
       "      <td>19</td>\n",
       "      <td>Male</td>\n",
       "      <td>1st Class</td>\n",
       "      <td>yes</td>\n",
       "    </tr>\n",
       "    <tr>\n",
       "      <th>2</th>\n",
       "      <td>20</td>\n",
       "      <td>Female</td>\n",
       "      <td>2nd Class</td>\n",
       "      <td>no</td>\n",
       "    </tr>\n",
       "    <tr>\n",
       "      <th>3</th>\n",
       "      <td>18</td>\n",
       "      <td>Male</td>\n",
       "      <td>1st Class</td>\n",
       "      <td>no</td>\n",
       "    </tr>\n",
       "    <tr>\n",
       "      <th>4</th>\n",
       "      <td>21</td>\n",
       "      <td>Female</td>\n",
       "      <td>2nd Class</td>\n",
       "      <td>no</td>\n",
       "    </tr>\n",
       "    <tr>\n",
       "      <th>5</th>\n",
       "      <td>19</td>\n",
       "      <td>Male</td>\n",
       "      <td>1st Class</td>\n",
       "      <td>no</td>\n",
       "    </tr>\n",
       "    <tr>\n",
       "      <th>...</th>\n",
       "      <td>...</td>\n",
       "      <td>...</td>\n",
       "      <td>...</td>\n",
       "      <td>...</td>\n",
       "    </tr>\n",
       "    <tr>\n",
       "      <th>228</th>\n",
       "      <td>21</td>\n",
       "      <td>Female</td>\n",
       "      <td>1st Class</td>\n",
       "      <td>no</td>\n",
       "    </tr>\n",
       "    <tr>\n",
       "      <th>229</th>\n",
       "      <td>20</td>\n",
       "      <td>Male</td>\n",
       "      <td>2nd Class</td>\n",
       "      <td>no</td>\n",
       "    </tr>\n",
       "    <tr>\n",
       "      <th>230</th>\n",
       "      <td>20</td>\n",
       "      <td>Male</td>\n",
       "      <td>3rd Class</td>\n",
       "      <td>yes</td>\n",
       "    </tr>\n",
       "    <tr>\n",
       "      <th>231</th>\n",
       "      <td>19</td>\n",
       "      <td>Female</td>\n",
       "      <td>1st Class</td>\n",
       "      <td>yes</td>\n",
       "    </tr>\n",
       "    <tr>\n",
       "      <th>232</th>\n",
       "      <td>20</td>\n",
       "      <td>Male</td>\n",
       "      <td>3rd Class</td>\n",
       "      <td>yes</td>\n",
       "    </tr>\n",
       "  </tbody>\n",
       "</table>\n",
       "<p>232 rows × 4 columns</p>\n",
       "</div>"
      ],
      "text/plain": [
       "            Age  Gender      Grade Employed\n",
       "Student_id                                 \n",
       "1            19    Male  1st Class      yes\n",
       "2            20  Female  2nd Class       no\n",
       "3            18    Male  1st Class       no\n",
       "4            21  Female  2nd Class       no\n",
       "5            19    Male  1st Class       no\n",
       "...         ...     ...        ...      ...\n",
       "228          21  Female  1st Class       no\n",
       "229          20    Male  2nd Class       no\n",
       "230          20    Male  3rd Class      yes\n",
       "231          19  Female  1st Class      yes\n",
       "232          20    Male  3rd Class      yes\n",
       "\n",
       "[232 rows x 4 columns]"
      ]
     },
     "execution_count": 98,
     "metadata": {},
     "output_type": "execute_result"
    }
   ],
   "source": [
    "# Replacing some values\n",
    "## Male - 0, Female - 1, \n",
    "## no - 0, Yes 1 (employed)\n",
    "## 1st class - 1, 2, 3 - GRADE\n",
    "df['Gender'].replace(\"Male\",\"0\")\n",
    "df['Gender'].replace(\"Female\",\"1\")\n",
    "\n",
    "df['Employed'].replace('no',\"0\")\n",
    "df['Employed'].replace('yes',\"1\")\n",
    "\n",
    "df['Grade'].replace('1st Class',\"1\")\n",
    "df['Grade'].replace('2nd Class',\"2\")\n",
    "df['Grade'].replace('3rd Class',\"3\")\n",
    "\n",
    "df"
   ]
  },
  {
   "cell_type": "code",
   "execution_count": 110,
   "metadata": {},
   "outputs": [
    {
     "data": {
      "text/html": [
       "<div>\n",
       "<style scoped>\n",
       "    .dataframe tbody tr th:only-of-type {\n",
       "        vertical-align: middle;\n",
       "    }\n",
       "\n",
       "    .dataframe tbody tr th {\n",
       "        vertical-align: top;\n",
       "    }\n",
       "\n",
       "    .dataframe thead th {\n",
       "        text-align: right;\n",
       "    }\n",
       "</style>\n",
       "<table border=\"1\" class=\"dataframe\">\n",
       "  <thead>\n",
       "    <tr style=\"text-align: right;\">\n",
       "      <th></th>\n",
       "      <th>Age</th>\n",
       "      <th>Gender</th>\n",
       "      <th>Grade</th>\n",
       "      <th>Employed</th>\n",
       "    </tr>\n",
       "    <tr>\n",
       "      <th>Student_id</th>\n",
       "      <th></th>\n",
       "      <th></th>\n",
       "      <th></th>\n",
       "      <th></th>\n",
       "    </tr>\n",
       "  </thead>\n",
       "  <tbody>\n",
       "    <tr>\n",
       "      <th>1</th>\n",
       "      <td>19</td>\n",
       "      <td>0</td>\n",
       "      <td>1</td>\n",
       "      <td>1</td>\n",
       "    </tr>\n",
       "    <tr>\n",
       "      <th>2</th>\n",
       "      <td>20</td>\n",
       "      <td>1</td>\n",
       "      <td>2</td>\n",
       "      <td>0</td>\n",
       "    </tr>\n",
       "    <tr>\n",
       "      <th>3</th>\n",
       "      <td>18</td>\n",
       "      <td>0</td>\n",
       "      <td>1</td>\n",
       "      <td>0</td>\n",
       "    </tr>\n",
       "    <tr>\n",
       "      <th>4</th>\n",
       "      <td>21</td>\n",
       "      <td>1</td>\n",
       "      <td>2</td>\n",
       "      <td>0</td>\n",
       "    </tr>\n",
       "    <tr>\n",
       "      <th>5</th>\n",
       "      <td>19</td>\n",
       "      <td>0</td>\n",
       "      <td>1</td>\n",
       "      <td>0</td>\n",
       "    </tr>\n",
       "    <tr>\n",
       "      <th>...</th>\n",
       "      <td>...</td>\n",
       "      <td>...</td>\n",
       "      <td>...</td>\n",
       "      <td>...</td>\n",
       "    </tr>\n",
       "    <tr>\n",
       "      <th>228</th>\n",
       "      <td>21</td>\n",
       "      <td>1</td>\n",
       "      <td>1</td>\n",
       "      <td>0</td>\n",
       "    </tr>\n",
       "    <tr>\n",
       "      <th>229</th>\n",
       "      <td>20</td>\n",
       "      <td>0</td>\n",
       "      <td>2</td>\n",
       "      <td>0</td>\n",
       "    </tr>\n",
       "    <tr>\n",
       "      <th>230</th>\n",
       "      <td>20</td>\n",
       "      <td>0</td>\n",
       "      <td>3</td>\n",
       "      <td>1</td>\n",
       "    </tr>\n",
       "    <tr>\n",
       "      <th>231</th>\n",
       "      <td>19</td>\n",
       "      <td>1</td>\n",
       "      <td>1</td>\n",
       "      <td>1</td>\n",
       "    </tr>\n",
       "    <tr>\n",
       "      <th>232</th>\n",
       "      <td>20</td>\n",
       "      <td>0</td>\n",
       "      <td>3</td>\n",
       "      <td>1</td>\n",
       "    </tr>\n",
       "  </tbody>\n",
       "</table>\n",
       "<p>232 rows × 4 columns</p>\n",
       "</div>"
      ],
      "text/plain": [
       "            Age  Gender  Grade  Employed\n",
       "Student_id                              \n",
       "1            19       0      1         1\n",
       "2            20       1      2         0\n",
       "3            18       0      1         0\n",
       "4            21       1      2         0\n",
       "5            19       0      1         0\n",
       "...         ...     ...    ...       ...\n",
       "228          21       1      1         0\n",
       "229          20       0      2         0\n",
       "230          20       0      3         1\n",
       "231          19       1      1         1\n",
       "232          20       0      3         1\n",
       "\n",
       "[232 rows x 4 columns]"
      ]
     },
     "execution_count": 110,
     "metadata": {},
     "output_type": "execute_result"
    }
   ],
   "source": [
    "# Replacing some values\n",
    "## Male - 0, Female - 1, \n",
    "## no - 0, Yes 1 (employed)\n",
    "## 1st class - 1, 2, 3 - GRADE\n",
    "\n",
    "df.replace(to_replace=['Male','Female','no','yes','1st Class', '2nd Class', '3rd Class'],value=[0,1,0,1,1,2,3])\n"
   ]
  },
  {
   "cell_type": "code",
   "execution_count": 112,
   "metadata": {},
   "outputs": [
    {
     "data": {
      "text/html": [
       "<div>\n",
       "<style scoped>\n",
       "    .dataframe tbody tr th:only-of-type {\n",
       "        vertical-align: middle;\n",
       "    }\n",
       "\n",
       "    .dataframe tbody tr th {\n",
       "        vertical-align: top;\n",
       "    }\n",
       "\n",
       "    .dataframe thead th {\n",
       "        text-align: right;\n",
       "    }\n",
       "</style>\n",
       "<table border=\"1\" class=\"dataframe\">\n",
       "  <thead>\n",
       "    <tr style=\"text-align: right;\">\n",
       "      <th></th>\n",
       "      <th>a</th>\n",
       "      <th>b</th>\n",
       "      <th>c</th>\n",
       "    </tr>\n",
       "  </thead>\n",
       "  <tbody>\n",
       "    <tr>\n",
       "      <th>0</th>\n",
       "      <td>1</td>\n",
       "      <td>2</td>\n",
       "      <td>3</td>\n",
       "    </tr>\n",
       "    <tr>\n",
       "      <th>1</th>\n",
       "      <td>4</td>\n",
       "      <td>5</td>\n",
       "      <td>6</td>\n",
       "    </tr>\n",
       "    <tr>\n",
       "      <th>2</th>\n",
       "      <td>7</td>\n",
       "      <td>8</td>\n",
       "      <td>9</td>\n",
       "    </tr>\n",
       "  </tbody>\n",
       "</table>\n",
       "</div>"
      ],
      "text/plain": [
       "   a  b  c\n",
       "0  1  2  3\n",
       "1  4  5  6\n",
       "2  7  8  9"
      ]
     },
     "execution_count": 112,
     "metadata": {},
     "output_type": "execute_result"
    }
   ],
   "source": [
    "# Basic Data Transformation\n",
    "df = pd.DataFrame(np.array([[1,2,3],[4,5,6],[7,8,9]]), columns = ['a','b','c'])\n",
    "df.head()"
   ]
  },
  {
   "cell_type": "code",
   "execution_count": 113,
   "metadata": {},
   "outputs": [
    {
     "data": {
      "text/html": [
       "<div>\n",
       "<style scoped>\n",
       "    .dataframe tbody tr th:only-of-type {\n",
       "        vertical-align: middle;\n",
       "    }\n",
       "\n",
       "    .dataframe tbody tr th {\n",
       "        vertical-align: top;\n",
       "    }\n",
       "\n",
       "    .dataframe thead th {\n",
       "        text-align: right;\n",
       "    }\n",
       "</style>\n",
       "<table border=\"1\" class=\"dataframe\">\n",
       "  <thead>\n",
       "    <tr style=\"text-align: right;\">\n",
       "      <th></th>\n",
       "      <th>a</th>\n",
       "      <th>b</th>\n",
       "      <th>c</th>\n",
       "    </tr>\n",
       "  </thead>\n",
       "  <tbody>\n",
       "    <tr>\n",
       "      <th>0</th>\n",
       "      <td>10</td>\n",
       "      <td>20</td>\n",
       "      <td>30</td>\n",
       "    </tr>\n",
       "    <tr>\n",
       "      <th>1</th>\n",
       "      <td>40</td>\n",
       "      <td>50</td>\n",
       "      <td>60</td>\n",
       "    </tr>\n",
       "    <tr>\n",
       "      <th>2</th>\n",
       "      <td>70</td>\n",
       "      <td>80</td>\n",
       "      <td>90</td>\n",
       "    </tr>\n",
       "  </tbody>\n",
       "</table>\n",
       "</div>"
      ],
      "text/plain": [
       "    a   b   c\n",
       "0  10  20  30\n",
       "1  40  50  60\n",
       "2  70  80  90"
      ]
     },
     "execution_count": 113,
     "metadata": {},
     "output_type": "execute_result"
    }
   ],
   "source": [
    "# Applying a small transformation\n",
    "df.transform(func = lambda x : x*10)"
   ]
  },
  {
   "cell_type": "code",
   "execution_count": 114,
   "metadata": {},
   "outputs": [
    {
     "data": {
      "text/html": [
       "<div>\n",
       "<style scoped>\n",
       "    .dataframe tbody tr th:only-of-type {\n",
       "        vertical-align: middle;\n",
       "    }\n",
       "\n",
       "    .dataframe tbody tr th {\n",
       "        vertical-align: top;\n",
       "    }\n",
       "\n",
       "    .dataframe thead th {\n",
       "        text-align: right;\n",
       "    }\n",
       "</style>\n",
       "<table border=\"1\" class=\"dataframe\">\n",
       "  <thead>\n",
       "    <tr style=\"text-align: right;\">\n",
       "      <th></th>\n",
       "      <th>a</th>\n",
       "      <th>b</th>\n",
       "      <th>c</th>\n",
       "    </tr>\n",
       "  </thead>\n",
       "  <tbody>\n",
       "    <tr>\n",
       "      <th>0</th>\n",
       "      <td>0.000000</td>\n",
       "      <td>0.693147</td>\n",
       "      <td>1.098612</td>\n",
       "    </tr>\n",
       "    <tr>\n",
       "      <th>1</th>\n",
       "      <td>1.386294</td>\n",
       "      <td>1.609438</td>\n",
       "      <td>1.791759</td>\n",
       "    </tr>\n",
       "    <tr>\n",
       "      <th>2</th>\n",
       "      <td>1.945910</td>\n",
       "      <td>2.079442</td>\n",
       "      <td>2.197225</td>\n",
       "    </tr>\n",
       "  </tbody>\n",
       "</table>\n",
       "</div>"
      ],
      "text/plain": [
       "          a         b         c\n",
       "0  0.000000  0.693147  1.098612\n",
       "1  1.386294  1.609438  1.791759\n",
       "2  1.945910  2.079442  2.197225"
      ]
     },
     "execution_count": 114,
     "metadata": {},
     "output_type": "execute_result"
    }
   ],
   "source": [
    "# Applying a small transformation\n",
    "df.transform(func = lambda x : np.log(x))"
   ]
  },
  {
   "cell_type": "code",
   "execution_count": 115,
   "metadata": {},
   "outputs": [
    {
     "data": {
      "text/html": [
       "<div>\n",
       "<style scoped>\n",
       "    .dataframe tbody tr th:only-of-type {\n",
       "        vertical-align: middle;\n",
       "    }\n",
       "\n",
       "    .dataframe tbody tr th {\n",
       "        vertical-align: top;\n",
       "    }\n",
       "\n",
       "    .dataframe thead th {\n",
       "        text-align: right;\n",
       "    }\n",
       "</style>\n",
       "<table border=\"1\" class=\"dataframe\">\n",
       "  <thead>\n",
       "    <tr style=\"text-align: right;\">\n",
       "      <th></th>\n",
       "      <th>a</th>\n",
       "      <th>b</th>\n",
       "      <th>c</th>\n",
       "    </tr>\n",
       "  </thead>\n",
       "  <tbody>\n",
       "    <tr>\n",
       "      <th>0</th>\n",
       "      <td>2.718282</td>\n",
       "      <td>7.389056</td>\n",
       "      <td>20.085537</td>\n",
       "    </tr>\n",
       "    <tr>\n",
       "      <th>1</th>\n",
       "      <td>54.598150</td>\n",
       "      <td>148.413159</td>\n",
       "      <td>403.428793</td>\n",
       "    </tr>\n",
       "    <tr>\n",
       "      <th>2</th>\n",
       "      <td>1096.633158</td>\n",
       "      <td>2980.957987</td>\n",
       "      <td>8103.083928</td>\n",
       "    </tr>\n",
       "  </tbody>\n",
       "</table>\n",
       "</div>"
      ],
      "text/plain": [
       "             a            b            c\n",
       "0     2.718282     7.389056    20.085537\n",
       "1    54.598150   148.413159   403.428793\n",
       "2  1096.633158  2980.957987  8103.083928"
      ]
     },
     "execution_count": 115,
     "metadata": {},
     "output_type": "execute_result"
    }
   ],
   "source": [
    "# Applying a small transformation\n",
    "df.transform(func = lambda x : np.exp(x))"
   ]
  },
  {
   "cell_type": "code",
   "execution_count": null,
   "metadata": {},
   "outputs": [],
   "source": []
  }
 ],
 "metadata": {
  "kernelspec": {
   "display_name": "Python 3 (ipykernel)",
   "language": "python",
   "name": "python3"
  },
  "language_info": {
   "codemirror_mode": {
    "name": "ipython",
    "version": 3
   },
   "file_extension": ".py",
   "mimetype": "text/x-python",
   "name": "python",
   "nbconvert_exporter": "python",
   "pygments_lexer": "ipython3",
   "version": "3.11.2"
  }
 },
 "nbformat": 4,
 "nbformat_minor": 4
}
